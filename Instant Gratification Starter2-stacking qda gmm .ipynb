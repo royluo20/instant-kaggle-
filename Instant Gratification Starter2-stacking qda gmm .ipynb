{
 "cells": [
  {
   "cell_type": "code",
   "execution_count": 1,
   "metadata": {
    "_cell_guid": "b1076dfc-b9ad-4769-8c92-a6c4dae69d19",
    "_uuid": "8f2839f25d086af736a60e9eeb907d3b93b6e0e5"
   },
   "outputs": [],
   "source": [
    "import numpy as np\n",
    "import pandas as pd\n",
    "from sklearn.model_selection import StratifiedKFold\n",
    "from sklearn.metrics import roc_auc_score\n",
    "from sklearn.preprocessing import StandardScaler\n",
    "from sklearn.feature_selection import VarianceThreshold\n",
    "from sklearn.discriminant_analysis import QuadraticDiscriminantAnalysis\n",
    "from tqdm import tqdm_notebook\n",
    "import warnings\n",
    "import multiprocessing\n",
    "from sklearn.naive_bayes import GaussianNB\n",
    "from sklearn.neighbors import KNeighborsClassifier\n",
    "from sklearn.linear_model import Ridge\n",
    "from sklearn.linear_model import LogisticRegression\n",
    "from sklearn.tree import DecisionTreeClassifier\n",
    "from sklearn.ensemble import RandomForestClassifier\n",
    "from sklearn.preprocessing import Normalizer\n",
    "from sklearn.svm import NuSVC\n",
    "from scipy.optimize import minimize \n",
    "from sklearn.mixture import GaussianMixture\n",
    "\n",
    "warnings.filterwarnings('ignore')"
   ]
  },
  {
   "cell_type": "code",
   "execution_count": 2,
   "metadata": {
    "_cell_guid": "79c7e3d0-c299-4dcb-8224-4455121ee9b0",
    "_uuid": "d629ff2d2480ee46fbb7e2d37f6b5fab8052498a"
   },
   "outputs": [],
   "source": [
    "train1 = pd.read_csv('train.csv')\n",
    "test1 = pd.read_csv('test.csv')\n",
    "cols = [c for c in train1.columns if c not in ['id', 'target', 'wheezy-copper-turtle-magic']]"
   ]
  },
  {
   "cell_type": "code",
   "execution_count": 3,
   "metadata": {},
   "outputs": [],
   "source": [
    "from sklearn.covariance import GraphicalLasso\n",
    "\n",
    "def get_mean_cov(x,y):\n",
    "    model = GraphicalLasso()\n",
    "    ones = (y==1).astype(bool)\n",
    "    x2 = x[ones]\n",
    "    model.fit(x2)\n",
    "    p1 = model.precision_\n",
    "    m1 = model.location_\n",
    "    \n",
    "    onesb = (y==0).astype(bool)\n",
    "    x2b = x[onesb]\n",
    "    model.fit(x2b)\n",
    "    p2 = model.precision_\n",
    "    m2 = model.location_\n",
    "    \n",
    "    ms = np.stack([m1,m2])\n",
    "    ps = np.stack([p1,p2])\n",
    "    return ms,ps"
   ]
  },
  {
   "cell_type": "code",
   "execution_count": 9,
   "metadata": {},
   "outputs": [],
   "source": [
    "def instant_model(train, test, col, clf = QuadraticDiscriminantAnalysis(0.5), gmm = False):\n",
    "    oof = np.zeros(len(train))\n",
    "    preds = np.zeros(len(test))\n",
    "    \n",
    "    for i in tqdm_notebook(range(512)):\n",
    "\n",
    "        train2 = train[train['wheezy-copper-turtle-magic'] == i]\n",
    "        test2 = test[test['wheezy-copper-turtle-magic'] == i]\n",
    "        idx1 = train2.index\n",
    "        idx2 = test2.index\n",
    "\n",
    "        data = pd.concat([pd.DataFrame(train2[cols]), pd.DataFrame(test2[cols])])\n",
    "        # feature selection\n",
    "        data2 = VarianceThreshold(threshold = 2).fit_transform(data[cols])\n",
    "        \n",
    "        train3 = pd.DataFrame(data2[:train2.shape[0]], index = idx1)\n",
    "        train3['target'] = train2['target']\n",
    "        test3 = pd.DataFrame(data2[train2.shape[0]:], index = idx2)\n",
    "        \n",
    "        \n",
    "        \n",
    "        # Kfold\n",
    "        skf = StratifiedKFold(n_splits=11, random_state=42)\n",
    "        for train_index, test_index in skf.split(train3, train3['target']):\n",
    "            # clf\n",
    "            X_train = train3.iloc[train_index, :].drop([\"target\"], axis = 1)\n",
    "            X_test = train3.iloc[test_index, :].drop([\"target\"], axis = 1)\n",
    "            y_train = train3.iloc[train_index, :]['target']\n",
    "            y_test = train3.iloc[test_index, :]['target']\n",
    "            \n",
    "            if gmm != False:\n",
    "                ms, ps = get_mean_cov(X_train, y_train)\n",
    "                clf = GaussianMixture(n_components=2, init_params='random', \n",
    "                                  covariance_type='full', tol=0.001,reg_covar=0.001, \n",
    "                                  max_iter=100, n_init=1,means_init=ms, precisions_init=ps)\n",
    "            else:\n",
    "                clf = clf\n",
    "            \n",
    "            clf.fit(X_train, y_train)\n",
    "            \n",
    "            if gmm == False:\n",
    "                \n",
    "                \n",
    "            # output\n",
    "                train_prob = clf.predict_proba(X_train)[:,1]\n",
    "                test_prob = clf.predict_proba(X_test)[:,1]\n",
    "                oof[idx1[test_index]] = test_prob\n",
    "\n",
    "                # bagging\n",
    "                preds[idx2] += clf.predict_proba(test3)[:,1] / skf.n_splits\n",
    "            # print(\"Chunk {0} Fold {1}\".format(i, roc_auc_score(y_test, test_prob)))\n",
    "            \n",
    "            else:\n",
    "                train_prob = clf.predict_proba(X_train)[:,0]\n",
    "                test_prob = clf.predict_proba(X_test)[:,0]\n",
    "                oof[idx1[test_index]] = test_prob\n",
    "\n",
    "                # bagging\n",
    "                preds[idx2] += clf.predict_proba(test3)[:,0] / skf.n_splits\n",
    "            \n",
    "            \n",
    "    auc = roc_auc_score(train['target'], oof)\n",
    "    print(f'AUC: {auc:.5}')\n",
    "    \n",
    "    return oof, preds"
   ]
  },
  {
   "cell_type": "code",
   "execution_count": 5,
   "metadata": {},
   "outputs": [],
   "source": [
    "def get_newtrain(train, test, preds, oof):\n",
    "    # get useful train set from train and test data\n",
    "    # get useful test \n",
    "    test['target'] = preds\n",
    "    test.loc[test['target'] > 0.985, 'target'] = 1\n",
    "    test.loc[test['target'] < 0.015, 'target'] = 0\n",
    "    usefull_test = test[(test['target'] == 1) | (test['target'] == 0)]\n",
    "\n",
    "    # get useful train \n",
    "    new_train = pd.concat([train, usefull_test]).reset_index(drop=True)\n",
    "    new_train.loc[oof > 0.985, 'target'] = 1\n",
    "    new_train.loc[oof < 0.015, 'target'] = 0\n",
    "    return new_train"
   ]
  },
  {
   "cell_type": "code",
   "execution_count": null,
   "metadata": {},
   "outputs": [],
   "source": []
  },
  {
   "cell_type": "code",
   "execution_count": 6,
   "metadata": {},
   "outputs": [
    {
     "data": {
      "application/vnd.jupyter.widget-view+json": {
       "model_id": "1e6c2f166d4c4006ad4a994836227699",
       "version_major": 2,
       "version_minor": 0
      },
      "text/plain": [
       "HBox(children=(IntProgress(value=0, max=512), HTML(value='')))"
      ]
     },
     "metadata": {},
     "output_type": "display_data"
    },
    {
     "name": "stdout",
     "output_type": "stream",
     "text": [
      "\n",
      "AUC: 0.9649\n"
     ]
    }
   ],
   "source": [
    "oof_temp, preds_temp = instant_model(train1, test1, cols, clf = QuadraticDiscriminantAnalysis(0.5))\n",
    "#oof_temp, preds_temp = instant_model(train1, test1, cols, gmm = True)\n",
    "\n",
    "#oof_temp1, preds_temp1 = instant_model(train, test, cols, clf = NuSVC(probability = True, kernel = 'poly'))\n",
    "#oof_temp2, preds_temp2 = instant_model(train1, test1, cols, clf = KNeighborsClassifier(n_neighbors = 7, p = 2, weights = 'distance'))\n"
   ]
  },
  {
   "cell_type": "code",
   "execution_count": 10,
   "metadata": {},
   "outputs": [
    {
     "data": {
      "application/vnd.jupyter.widget-view+json": {
       "model_id": "b605c8f486fa4ffeaa0217146b24ae79",
       "version_major": 2,
       "version_minor": 0
      },
      "text/plain": [
       "HBox(children=(IntProgress(value=0, max=512), HTML(value='')))"
      ]
     },
     "metadata": {},
     "output_type": "display_data"
    },
    {
     "name": "stdout",
     "output_type": "stream",
     "text": [
      "\n",
      "AUC: 0.99787\n"
     ]
    },
    {
     "data": {
      "application/vnd.jupyter.widget-view+json": {
       "model_id": "851046fd97e64ef6982844b2a5bd60ba",
       "version_major": 2,
       "version_minor": 0
      },
      "text/plain": [
       "HBox(children=(IntProgress(value=0, max=512), HTML(value='')))"
      ]
     },
     "metadata": {},
     "output_type": "display_data"
    },
    {
     "name": "stdout",
     "output_type": "stream",
     "text": [
      "\n",
      "AUC: 0.99739\n"
     ]
    }
   ],
   "source": [
    "newtrain1 = get_newtrain(train1, test1, preds_temp, oof_temp)\n",
    "cols1 = [c for c in newtrain1.columns if c not in ['id', 'target', 'wheezy-copper-turtle-magic']]\n",
    "\n",
    "\n",
    "oof_qda, preds_qda = instant_model(newtrain1, test1,cols1)\n",
    "oof_gmm, preds_gmm = instant_model(newtrain1, test1,cols1, gmm = True)\n",
    "#oof2, preds2 = instant_model(newtrain1, test1,cols1, clf = KNeighborsClassifier(n_neighbors = 7, p = 2, weights = 'distance'))\n"
   ]
  },
  {
   "cell_type": "code",
   "execution_count": 11,
   "metadata": {},
   "outputs": [
    {
     "name": "stdout",
     "output_type": "stream",
     "text": [
      "0.9978558738316134\n"
     ]
    }
   ],
   "source": [
    "log = LogisticRegression()\n",
    "\n",
    "final_feature = pd.DataFrame({'QDA':oof_qda, 'GMM':oof_gmm})\n",
    "final_feature_test = pd.DataFrame({'QDA':preds_qda, 'GMM':preds_gmm})\n",
    "\n",
    "\n",
    "y = newtrain1.target\n",
    "log.fit(final_feature, y)\n",
    "print(roc_auc_score(newtrain1['target'], log.predict_proba(final_feature)[:,1]))\n",
    "\n",
    "preds = log.predict_proba(final_feature_test)[:,1]"
   ]
  },
  {
   "cell_type": "code",
   "execution_count": null,
   "metadata": {},
   "outputs": [],
   "source": [
    "sub = pd.read_csv('../input/sample_submission.csv')\n",
    "sub['target'] = preds\n",
    "sub.to_csv('submission_stack.csv',index=False)"
   ]
  }
 ],
 "metadata": {
  "kernelspec": {
   "display_name": "Python 3",
   "language": "python",
   "name": "python3"
  },
  "language_info": {
   "codemirror_mode": {
    "name": "ipython",
    "version": 3
   },
   "file_extension": ".py",
   "mimetype": "text/x-python",
   "name": "python",
   "nbconvert_exporter": "python",
   "pygments_lexer": "ipython3",
   "version": "3.6.8"
  }
 },
 "nbformat": 4,
 "nbformat_minor": 1
}
